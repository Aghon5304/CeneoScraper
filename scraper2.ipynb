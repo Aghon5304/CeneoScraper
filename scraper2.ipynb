{
 "cells": [
  {
   "attachments": {},
   "cell_type": "markdown",
   "metadata": {},
   "source": [
    "# Ceneo Scraper"
   ]
  },
  {
   "attachments": {},
   "cell_type": "markdown",
   "metadata": {},
   "source": [
    "## Bilioteki"
   ]
  },
  {
   "cell_type": "code",
   "execution_count": 18,
   "metadata": {},
   "outputs": [],
   "source": [
    "import os\n",
    "import json\n",
    "import requests\n",
    "from bs4 import BeautifulSoup"
   ]
  },
  {
   "cell_type": "code",
   "execution_count": 19,
   "metadata": {},
   "outputs": [],
   "source": [
    "def extract(ancestor, selector=None, attribute=None, returns_list=False):\n",
    "    if selector:\n",
    "        if returns_list:\n",
    "            if attribute:\n",
    "                return [tag[attribute].strip() for tag in ancestor.select(selector)]\n",
    "            return [tag.text.strip() for tag in ancestor.select(selector)],\n",
    "        if attribute:\n",
    "            try:\n",
    "                return ancestor.select_one(selector)[attribute].strip()\n",
    "            except TypeError:\n",
    "                return None\n",
    "        try:\n",
    "            return ancestor.select_one(selector).get_text().strip()\n",
    "        except AttributeError:\n",
    "            return None\n",
    "    if attribute:\n",
    "        return ancestor[attribute].strip()\n",
    "    return ancestor.get_text().strip()\n"
   ]
  },
  {
   "cell_type": "code",
   "execution_count": 20,
   "metadata": {},
   "outputs": [],
   "source": [
    "selectors = {\n",
    "    \"opinion_id\": (None, \"data-entry-id\"),\n",
    "    \"author\": (\"span.user-post__author-name\",),\n",
    "    \"recommendation\": (\"span.user-post__author-recomendation > em\",),\n",
    "    \"rating\": (\"span.user-post__score-count\",),\n",
    "    \"content\": (\"div.user-post__text\",),\n",
    "    \"pros\": (\"div.review-feature__title--positives~div.review-feature__item\",None,True),\n",
    "    \"cons\": (\"div.review-feature__title--negatives~div.review-feature__item\",None,True),\n",
    "    \"useful\": ('span[id^=\"votes-yes\"]',),\n",
    "    \"useless\" : ('span[id^=\"votes-no\"]',),\n",
    "    \"post_date\" : ('span.user-post__published > time:nth-child(1)',\"datetime\"),\n",
    "    \"purchase_date\" : ('span.user-post__published > time:nth-child(2)',\"datetime\"),\n",
    "}"
   ]
  },
  {
   "attachments": {},
   "cell_type": "markdown",
   "metadata": {},
   "source": [
    "## wysyłanie żądania do zasobu do serwera"
   ]
  },
  {
   "cell_type": "code",
   "execution_count": 21,
   "metadata": {},
   "outputs": [],
   "source": [
    "product_id = \"114700014\"\n",
    "url = f\"https://www.ceneo.pl/{product_id}/opinie-1\""
   ]
  },
  {
   "cell_type": "code",
   "execution_count": 22,
   "metadata": {},
   "outputs": [
    {
     "ename": "TypeError",
     "evalue": "'NoneType' object is not subscriptable",
     "output_type": "error",
     "traceback": [
      "\u001b[1;31m---------------------------------------------------------------------------\u001b[0m",
      "\u001b[1;31mTypeError\u001b[0m                                 Traceback (most recent call last)",
      "Cell \u001b[1;32mIn[22], line 7\u001b[0m\n\u001b[0;32m      5\u001b[0m opinions \u001b[39m=\u001b[39m page_dom\u001b[39m.\u001b[39mselect(\u001b[39m\"\u001b[39m\u001b[39mdiv.js_product-review\u001b[39m\u001b[39m\"\u001b[39m)\n\u001b[0;32m      6\u001b[0m \u001b[39mfor\u001b[39;00m opinion \u001b[39min\u001b[39;00m opinions:\n\u001b[1;32m----> 7\u001b[0m     single_opinion \u001b[39m=\u001b[39m {\n\u001b[0;32m      8\u001b[0m         key: extract(opinion, \u001b[39m*\u001b[39;49mvalue)\n\u001b[0;32m      9\u001b[0m             \u001b[39mfor\u001b[39;49;00m key, value \u001b[39min\u001b[39;49;00m selectors\u001b[39m.\u001b[39;49mitems()\n\u001b[0;32m     10\u001b[0m     }\n\u001b[0;32m     11\u001b[0m     all_opinions\u001b[39m.\u001b[39mappend(single_opinion)\n\u001b[0;32m     12\u001b[0m \u001b[39mtry\u001b[39;00m:\n",
      "Cell \u001b[1;32mIn[22], line 8\u001b[0m, in \u001b[0;36m<dictcomp>\u001b[1;34m(.0)\u001b[0m\n\u001b[0;32m      5\u001b[0m opinions \u001b[39m=\u001b[39m page_dom\u001b[39m.\u001b[39mselect(\u001b[39m\"\u001b[39m\u001b[39mdiv.js_product-review\u001b[39m\u001b[39m\"\u001b[39m)\n\u001b[0;32m      6\u001b[0m \u001b[39mfor\u001b[39;00m opinion \u001b[39min\u001b[39;00m opinions:\n\u001b[0;32m      7\u001b[0m     single_opinion \u001b[39m=\u001b[39m {\n\u001b[1;32m----> 8\u001b[0m         key: extract(opinion, \u001b[39m*\u001b[39;49mvalue)\n\u001b[0;32m      9\u001b[0m             \u001b[39mfor\u001b[39;00m key, value \u001b[39min\u001b[39;00m selectors\u001b[39m.\u001b[39mitems()\n\u001b[0;32m     10\u001b[0m     }\n\u001b[0;32m     11\u001b[0m     all_opinions\u001b[39m.\u001b[39mappend(single_opinion)\n\u001b[0;32m     12\u001b[0m \u001b[39mtry\u001b[39;00m:\n",
      "Cell \u001b[1;32mIn[19], line 9\u001b[0m, in \u001b[0;36mextract\u001b[1;34m(ancestor, selector, attribute, returns_list)\u001b[0m\n\u001b[0;32m      7\u001b[0m \u001b[39mif\u001b[39;00m attribute:\n\u001b[0;32m      8\u001b[0m     \u001b[39mtry\u001b[39;00m:\n\u001b[1;32m----> 9\u001b[0m         \u001b[39mreturn\u001b[39;00m ancestor\u001b[39m.\u001b[39;49mselect_one(selector)[attribute]\u001b[39m.\u001b[39mstrip()\n\u001b[0;32m     10\u001b[0m     \u001b[39mexcept\u001b[39;00m \u001b[39mAttributeError\u001b[39;00m:\n\u001b[0;32m     11\u001b[0m         \u001b[39mreturn\u001b[39;00m \u001b[39mNone\u001b[39;00m\n",
      "\u001b[1;31mTypeError\u001b[0m: 'NoneType' object is not subscriptable"
     ]
    }
   ],
   "source": [
    "all_opinions = []\n",
    "while url:\n",
    "    response = requests.get(url)\n",
    "    page_dom = BeautifulSoup(response.text,\"html.parser\")\n",
    "    opinions = page_dom.select(\"div.js_product-review\")\n",
    "    for opinion in opinions:\n",
    "        single_opinion = {\n",
    "            key: extract(opinion, *value)\n",
    "                for key, value in selectors.items()\n",
    "        }\n",
    "        all_opinions.append(single_opinion)\n",
    "    try:\n",
    "        url = f\"https://www.ceneo.pl\"+ extract(page_dom, \"a.pagination__next\", \"href\")\n",
    "    except TypeError:\n",
    "        url = None"
   ]
  },
  {
   "cell_type": "code",
   "execution_count": null,
   "metadata": {},
   "outputs": [],
   "source": [
    "if not os.path.exists(\"opinions\"):\n",
    "    os.mkdir(\"opinions\")\n",
    "with open(f\"opinions/{product_id}.json\",\"w\",encoding=\"UTF-8\") as jf: \n",
    "    json.dump(all_opinions, jf , indent=4, ensure_ascii=False)"
   ]
  },
  {
   "cell_type": "code",
   "execution_count": null,
   "metadata": {},
   "outputs": [],
   "source": [
    "len(all_opinions)"
   ]
  },
  {
   "attachments": {},
   "cell_type": "markdown",
   "metadata": {},
   "source": [
    "## Ekstrakcja składowych pojedynczej opinii\n",
    "\n",
    "|Składowa|Selektor|zmienna|\n",
    "|--------|--------|--------|\n",
    "|id opinii|[\"js_product-review\"]|opinion_id|\n",
    "|autor|span.user-post__author-name|author|\n",
    "|rekomendacja|span.user-post__author-recomendation > em|recommendation|\n",
    "|gwiazdki|user-post__score.count|rating|\n",
    "|treść|user-post__text|content|\n",
    "|lista zalet|review-feature__title--positives~div.review-feature__item|pros|\n",
    "|lista wad|review-feature__title--negatives~div.review-feature__item|cons|\n",
    "|dla ilu przydatna|span[id^=\"votes-yes\"]|useful|\n",
    "|dla ilu nieprzydatna|span[id^=\"votes-no\"]|useless|\n",
    "|data wystawienia|span.user-post__published > time:nth-child(1)|post_date|\n",
    "|data zakupu|span.user-post__published > time:nth-child(2)|purchase_date|"
   ]
  },
  {
   "cell_type": "code",
   "execution_count": null,
   "metadata": {},
   "outputs": [],
   "source": [
    "print(json.dumps(single_opinion, indent=4, ensure_ascii=False))\n",
    "print(json.dumps(all_opinions, indent=4, ensure_ascii=False))"
   ]
  },
  {
   "attachments": {},
   "cell_type": "markdown",
   "metadata": {},
   "source": [
    "## zadanie 1"
   ]
  }
 ],
 "metadata": {
  "kernelspec": {
   "display_name": ".venv",
   "language": "python",
   "name": "python3"
  },
  "language_info": {
   "codemirror_mode": {
    "name": "ipython",
    "version": 3
   },
   "file_extension": ".py",
   "mimetype": "text/x-python",
   "name": "python",
   "nbconvert_exporter": "python",
   "pygments_lexer": "ipython3",
   "version": "3.11.4"
  }
 },
 "nbformat": 4,
 "nbformat_minor": 2
}
