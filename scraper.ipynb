{
 "cells": [
  {
   "cell_type": "markdown",
   "metadata": {},
   "source": [
    "# Ceneo Scraper"
   ]
  },
  {
   "cell_type": "markdown",
   "metadata": {},
   "source": [
    "## Bilioteki"
   ]
  },
  {
   "cell_type": "code",
   "execution_count": null,
   "metadata": {},
   "outputs": [],
   "source": [
    "import os\n",
    "import json\n",
    "import requests\n",
    "from bs4 import BeautifulSoup"
   ]
  },
  {
   "cell_type": "markdown",
   "metadata": {},
   "source": [
    "## wysyłanie żądania do zasobu do serwera"
   ]
  },
  {
   "cell_type": "code",
   "execution_count": null,
   "metadata": {},
   "outputs": [],
   "source": [
    "product_id = \"114700014\"\n",
    "url = f\"https://www.ceneo.pl/{product_id}/opinie-1\""
   ]
  },
  {
   "cell_type": "code",
   "execution_count": null,
   "metadata": {},
   "outputs": [],
   "source": [
    "all_opinions = []\n",
    "while url:\n",
    "    response = requests.get(url)\n",
    "    page_dom = BeautifulSoup(response.text,\"html.parser\")\n",
    "    opinions = page_dom.select(\"div.js_product-review\")\n",
    "    for opinion in opinions:\n",
    "        try:\n",
    "            single_opinion = {\n",
    "                \"opinion_id\" : opinion.select_one(\"data-entry-id\"),\n",
    "                \"author\" : opinion.select_one(\"span.user-post__author-name\").string.strip(),\n",
    "                \"recommendation\" :  opinion.select_one(\"span.user-post__author-recomendation > em\").string.strip(),\n",
    "                \"rating\" : opinion.select_one(\"span.user-post__score-count\").text.strip(),\n",
    "                \"content\" : opinion.select_one(\"div.user-post__text\").get_text().strip(),\n",
    "                \"pros\" : [p.text.strip() for p in opinion.select(\"div.review-feature__title--positives~div.review-feature__item\")],\n",
    "                \"cons\" : [c.get_text().strip() for c in opinion.select(\"div.review-feature__title--negatives~div.review-feature__item\")],\n",
    "                \"useful\" : opinion.select_one('span[id^=\"votes-yes\"]').text.strip(),\n",
    "                \"useless\" : opinion.select_one('span[id^=\"votes-no\"]').text.strip(),\n",
    "                \"post_date\" : opinion.select_one('span.user-post__published > time:nth-child(1)')[\"datetime\"].strip(),\n",
    "                \"purchase_date\" : opinion.select_one('span.user-post__published > time:nth-child(2)')[\"datetime\"].strip(),\n",
    "            }\n",
    "            all_opinions.append(single_opinion)\n",
    "        except (AttributeError,TypeError):\n",
    "            pass\n",
    "    try:\n",
    "        url = f\"https://www.ceneo.pl{page_dom.select_one(\"a.pagination__next\")[\"href\"]}\"\n",
    "    except TypeError:\n",
    "        url = None"
   ]
  },
  {
   "cell_type": "code",
   "execution_count": null,
   "metadata": {},
   "outputs": [],
   "source": [
    "if not os.path.exists(\"opinions\"):\n",
    "    os.mkdir(\"opinions\")\n",
    "with open(f\"opinions/{product_id}.json\",\"w\",encoding=\"UTF-8\") as jf: \n",
    "    json.dump(all_opinions, jf , indent=4, ensure_ascii=False)"
   ]
  },
  {
   "cell_type": "code",
   "execution_count": null,
   "metadata": {},
   "outputs": [],
   "source": [
    "len(all_opinions)"
   ]
  },
  {
   "cell_type": "markdown",
   "metadata": {},
   "source": [
    "## Ekstrakcja składowych pojedynczej opinii\n",
    "\n",
    "|Składowa|Selektor|zmienna|\n",
    "|--------|--------|--------|\n",
    "|id opinii|[\"js_product-review\"]|opinion_id|\n",
    "|autor|span.user-post__author-name|author|\n",
    "|rekomendacja|span.user-post__author-recomendation > em|recommendation|\n",
    "|gwiazdki|user-post__score.count|rating|\n",
    "|treść|user-post__text|content|\n",
    "|lista zalet|review-feature__title--positives~div.review-feature__item|pros|\n",
    "|lista wad|review-feature__title--negatives~div.review-feature__item|cons|\n",
    "|dla ilu przydatna|span[id^=\"votes-yes\"]|useful|\n",
    "|dla ilu nieprzydatna|span[id^=\"votes-no\"]|useless|\n",
    "|data wystawienia|span.user-post__published > time:nth-child(1)|post_date|\n",
    "|data zakupu|span.user-post__published > time:nth-child(2)|purchase_date|"
   ]
  },
  {
   "cell_type": "code",
   "execution_count": null,
   "metadata": {},
   "outputs": [],
   "source": [
    "print(json.dumps(single_opinion, indent=4, ensure_ascii=False))\n",
    "print(json.dumps(all_opinions, indent=4, ensure_ascii=False))"
   ]
  },
  {
   "cell_type": "markdown",
   "metadata": {},
   "source": [
    "## zadanie 1"
   ]
  }
 ],
 "metadata": {
  "kernelspec": {
   "display_name": ".venv",
   "language": "python",
   "name": "python3"
  },
  "language_info": {
   "codemirror_mode": {
    "name": "ipython",
    "version": 3
   },
   "file_extension": ".py",
   "mimetype": "text/x-python",
   "name": "python",
   "nbconvert_exporter": "python",
   "pygments_lexer": "ipython3",
   "version": "3.12.0"
  }
 },
 "nbformat": 4,
 "nbformat_minor": 2
}
