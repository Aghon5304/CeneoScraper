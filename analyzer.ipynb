{
 "cells": [
  {
   "cell_type": "markdown",
   "metadata": {},
   "source": [
    "# Ceneo Analyzer"
   ]
  },
  {
   "cell_type": "markdown",
   "metadata": {},
   "source": [
    "## Biblioteka"
   ]
  },
  {
   "cell_type": "code",
   "execution_count": null,
   "metadata": {},
   "outputs": [],
   "source": [
    "import os\n",
    "import pandas as pd\n",
    "import numpy as np\n",
    "from matplotlib import pyplot as plt"
   ]
  },
  {
   "cell_type": "markdown",
   "metadata": {},
   "source": [
    "## Lista kodów produktów o których zostały pobrane opini"
   ]
  },
  {
   "cell_type": "code",
   "execution_count": null,
   "metadata": {},
   "outputs": [],
   "source": [
    "print(*[filename.split(\".\")[0] for filename in os.listdir(\"opinions\")], sep=\"/n\")\n"
   ]
  },
  {
   "cell_type": "markdown",
   "metadata": {},
   "source": [
    "## kod produktu, którego opinie mają zostać zanalizowane"
   ]
  },
  {
   "cell_type": "code",
   "execution_count": null,
   "metadata": {},
   "outputs": [],
   "source": [
    "product_id = input(\"Wybierz id produktu\")"
   ]
  },
  {
   "cell_type": "markdown",
   "metadata": {},
   "source": [
    "## wczytywanie"
   ]
  },
  {
   "cell_type": "code",
   "execution_count": null,
   "metadata": {},
   "outputs": [],
   "source": [
    "opinions = pd.read_json(f\"opinions/{product_id}.json\")\n",
    "opinions.rating = opinions.rating.apply(lambda r: r.split(\"/\")[0].replace(\",\",\".\")).astype(float)\n",
    "opinions.recommendation = opinions.recommendation.apply(lambda r: \"Brak rekomendacji\" if r is None else r)"
   ]
  },
  {
   "cell_type": "markdown",
   "metadata": {},
   "source": [
    "## podstawowe statystyki zbioru"
   ]
  },
  {
   "cell_type": "code",
   "execution_count": null,
   "metadata": {},
   "outputs": [],
   "source": [
    "opinions_count = len(opinions)\n",
    "pros_count = opinions.pros.apply(lambda p: 1 if p else 0).sum()\n",
    "cons_count = opinions.cons.apply(lambda c: 1 if c else 0).sum()\n",
    "rating_mean = opinions.rating.mean()"
   ]
  },
  {
   "cell_type": "code",
   "execution_count": null,
   "metadata": {},
   "outputs": [],
   "source": [
    "print(opinions_count,\n",
    "pros_count,\n",
    "cons_count,\n",
    "rating_mean)"
   ]
  },
  {
   "cell_type": "markdown",
   "metadata": {},
   "source": [
    "## Histogram częstości poszczególnych ocen produktu"
   ]
  },
  {
   "cell_type": "code",
   "execution_count": null,
   "metadata": {},
   "outputs": [],
   "source": [
    "rating_distribution = opinions.rating.value_counts().reindex(np.arange(0,5.5,0.5), fill_value=0)\n",
    "fig, ax = plt.subplots()\n",
    "rating_distribution.plot.bar()\n",
    "plt.title(\"Histiogram częstości gwiazdek\")\n",
    "plt.xlabel(\"liczba gwiazdek\")\n",
    "plt.ylabel(\"liczba opinii\")\n",
    "plt.xticks(rotation=0)\n",
    "plt.bar_label(ax.containers[0],label_type=\"edge\")"
   ]
  },
  {
   "cell_type": "markdown",
   "metadata": {},
   "source": [
    "## udział poszczególnych rekomendacji w opiniach o produkcie"
   ]
  },
  {
   "cell_type": "code",
   "execution_count": null,
   "metadata": {},
   "outputs": [],
   "source": [
    "recommendations_distribution = opinions.recommendation.value_counts().reindex([\"Polecam\",\"Nie polecam\",\"Brak rekomendacji\"])\n",
    "recommendations_distribution"
   ]
  },
  {
   "cell_type": "code",
   "execution_count": null,
   "metadata": {},
   "outputs": [],
   "source": [
    "recommendations_distribution.plot.pie(\n",
    "    colors = [\"hotpink\",\"deeppink\",\"lavenderblush\"],\n",
    "    autopct= \"%1.1F%%\",\n",
    "    label = \"\"\n",
    ")\n",
    "plt.title(\"Udział rekomendacji w opiniach\")\n"
   ]
  }
 ],
 "metadata": {
  "kernelspec": {
   "display_name": ".venv",
   "language": "python",
   "name": "python3"
  },
  "language_info": {
   "codemirror_mode": {
    "name": "ipython",
    "version": 3
   },
   "file_extension": ".py",
   "mimetype": "text/x-python",
   "name": "python",
   "nbconvert_exporter": "python",
   "pygments_lexer": "ipython3",
   "version": "3.12.0"
  }
 },
 "nbformat": 4,
 "nbformat_minor": 2
}
